{
 "cells": [
  {
   "cell_type": "code",
   "execution_count": 2,
   "id": "75f87fa2-939f-46fc-8bd2-76760d1c4228",
   "metadata": {},
   "outputs": [
    {
     "name": "stdout",
     "output_type": "stream",
     "text": [
      "swapping value of : 859\n",
      "swapping value of :  467\n"
     ]
    }
   ],
   "source": [
    "# Q.1. Declare two variables, x and y, and assign them integer values. Swap the values of these variables without using any temporary variable.\n",
    "\n",
    "#Step 1 : Declear & initialize the value of x and y\n",
    "x = 467\n",
    "y = 859\n",
    "\n",
    "#Step 2: Swap the value of x & y\n",
    "x = x + y\n",
    "y = x - y\n",
    "x = x - y\n",
    "\n",
    "#Step 3: print the swapping value of x and y\n",
    "print(\"swapping value of :\", x)\n",
    "print(\"swapping value of : \" , y)"
   ]
  },
  {
   "cell_type": "code",
   "execution_count": null,
   "id": "0f581371-2fbe-4f94-b9c1-9863a8038e83",
   "metadata": {},
   "outputs": [],
   "source": [
    "Explaination : \n",
    "x = 467 : the initialize variable named x with the value of x is 467\n",
    "y = 859 : the initialize variable named y with the value of y is 859\n",
    "x = x+y & y = x-y & x = x-y :  This line of logic help to swap the value of x & y. \n",
    "After this line execution, the value of x becomes the original value of y, and the value of y becomes the original value of x.\n",
    "print statement help to print the value of x and y after the swapping operation."
   ]
  },
  {
   "cell_type": "code",
   "execution_count": 3,
   "id": "2e494173-ca0b-4d9e-9a53-02c427d50f9e",
   "metadata": {},
   "outputs": [
    {
     "name": "stdin",
     "output_type": "stream",
     "text": [
      "Length of Rectangle :  4\n",
      "Breadth of Rectangle :  5\n"
     ]
    },
    {
     "name": "stdout",
     "output_type": "stream",
     "text": [
      "Area of Rectangle is :  20.0\n"
     ]
    }
   ],
   "source": [
    "# Q. 2. Create a program that calculates the area of a rectangle. Take the length and width as inputs from the user and store them in variables. Calculate and display the area.\n",
    "\n",
    "# step1 : take input from the user \n",
    "\n",
    "x = float(input(\"Length of Rectangle : \"))\n",
    "y = float(input(\"Breadth of Rectangle : \"))\n",
    "\n",
    "# Calculate the area of rectangle using the formula area_of_rectangle = length*breadth\n",
    "\n",
    "z = x * y;   #Calculate the area (z) by multiplying of length(x)* breadth(y)\n",
    "\n",
    "# Display the calculated area from the user\n",
    "\n",
    "print(\"Area of Rectangle is : \", z); # print the calculated area of z"
   ]
  },
  {
   "cell_type": "code",
   "execution_count": null,
   "id": "05c63866-5a7f-4aad-a6b0-daea56cf310a",
   "metadata": {},
   "outputs": [],
   "source": [
    "Explaination : \n",
    "- Start by using the input function to receive the value length & breadth of rectangle respectively.\n",
    "- The input() function return a string, so use float function thats help to return the value in floating poin number.\n",
    "- The area of rectangle is calculated by multiplication of length & breadth, so we calculate the area of rectangle is length*breadth.\n",
    "- i.e. x = length of rectangle & y = breadth of rectangle.\n",
    "- After that display the area of rectangle using the help of print function.\n",
    "- we concatenate the string \"Area of Rectangle is :\" with calculate the area variable (z).\n"
   ]
  },
  {
   "cell_type": "code",
   "execution_count": 6,
   "id": "88ee41a6-ea4b-4f57-ac19-676704879475",
   "metadata": {},
   "outputs": [
    {
     "name": "stdin",
     "output_type": "stream",
     "text": [
      "Temperature in celcius 20\n"
     ]
    },
    {
     "name": "stdout",
     "output_type": "stream",
     "text": [
      "20.0 Celcius is equal to , 68.00 Fahrenheit\n"
     ]
    }
   ],
   "source": [
    "#Q3. Write a Python program that converts temperatures from Celsius to Fahrenheit. Take the temperature in Celsius as input, store it in a variable, convert it to Fahrenheit, and display the result.\n",
    "\n",
    "#Step 1: Get the temperature in celcius from the user.\n",
    "\n",
    "X = float(input(\"Temperature in celcius\")) # X = Celcius temperatur \n",
    "\n",
    "#Step 2 : Convert to Fahrenheit to celcius using formula (X * 1.8) + 32 .\n",
    "\n",
    "Y = (X * 1.8) + 32 # Y = Fahrenheit Temperature\n",
    "\n",
    "#Step 3 : Display the converted temperature in Fahrenheit.\n",
    "\n",
    "print (f\"{X} Celcius is equal to , {Y :.2f} Fahrenheit\")\n",
    "   "
   ]
  },
  {
   "cell_type": "code",
   "execution_count": null,
   "id": "018aa851-d8fc-4e2e-a1fe-4e82883d98d2",
   "metadata": {},
   "outputs": [],
   "source": [
    "Explaination : \n",
    "- we getting the temperature in celcius from the user using input() function. \n",
    "- The float function used to convert the input to the floating point number since temp can have decimal value.\n",
    "- After that perform the conversion from Celsius to Fahrenheit using the formula: Y = (X * 1.8) + 32. Then  store the result in the Y variable.\n",
    "- Then use the print() function to display the original Celsius temperature and the converted Fahrenheit temperature in the form of X and Y.\n",
    "- The \".2f\" inside the curly braces in the print() statement is used to format the output to display the \"Y\" with two decimal places."
   ]
  },
  {
   "cell_type": "code",
   "execution_count": 8,
   "id": "c712619d-594c-4edc-9057-95033c7bacfd",
   "metadata": {},
   "outputs": [
    {
     "name": "stdin",
     "output_type": "stream",
     "text": [
      " ABHISINHA\n"
     ]
    },
    {
     "name": "stdout",
     "output_type": "stream",
     "text": [
      "Length of the input is 9\n"
     ]
    }
   ],
   "source": [
    "#Q.4 Write a Python program that takes a string as input and prints the length of the string.\n",
    "\n",
    "#Take input from the user in string format.\n",
    "\n",
    "X = str(input())\n",
    "\n",
    "# Calculate the length of input function using built-in-len() function.\n",
    "\n",
    "String_Length = len(X)\n",
    "\n",
    "#print the length of string of string\n",
    "\n",
    "print(\"Length of the input is\", String_Length)"
   ]
  },
  {
   "cell_type": "code",
   "execution_count": null,
   "id": "15c6ecc3-64b1-4822-827d-75a8a14acf05",
   "metadata": {},
   "outputs": [],
   "source": [
    "Explaination : \n",
    "- Start using the input () function with the help of take input from the user in the form of string\n",
    "- after that calculate the length of the input string using the built in len() function.\n",
    "- the length value is stored in the variable String_Length.\n",
    "- then print the message \"Length of the input is\" & with the length of the input string."
   ]
  },
  {
   "cell_type": "code",
   "execution_count": 9,
   "id": "d65fa5c8-b7a5-48ed-be42-1b487d1b455d",
   "metadata": {},
   "outputs": [
    {
     "name": "stdin",
     "output_type": "stream",
     "text": [
      "Enter the sentence Abhu\n"
     ]
    },
    {
     "name": "stdout",
     "output_type": "stream",
     "text": [
      "Number of vowels in the sentence: 2\n"
     ]
    }
   ],
   "source": [
    "#Q.5.Create a program that takes a sentence from the user and counts the number of vowels (a, e, i, o, u) in the string.\n",
    "\n",
    "# Step1 : Take input from the user \n",
    "\n",
    "Sentence = str(input(\"Enter the sentence\"))\n",
    "\n",
    "# Convert the character to lowercase to handle both uppercase and lowercase vowels\n",
    "Sentence_lower = Sentence.lower()\n",
    "\n",
    "# initialize the value to count the vowel\n",
    "vowel_count = 0 \n",
    "\n",
    "#Iterate the each character in sentence_lower\n",
    "for char in Sentence_lower:\n",
    "    \n",
    "# check if the character is vowel(a,e,i,o,u)\n",
    "    if char in \"a,e,i,o,u\":\n",
    "        \n",
    "# if the character is vowel,  increment the vowel_count character\n",
    "        vowel_count += 1\n",
    "    \n",
    "# Display the vowel_count & also Concunate the  print statement.\n",
    "\n",
    "print(\"Number of vowels in the sentence:\", vowel_count)"
   ]
  },
  {
   "cell_type": "code",
   "execution_count": null,
   "id": "50504f7d-67b1-484b-ad9d-afdf82f0943f",
   "metadata": {},
   "outputs": [],
   "source": [
    "Explaination : \n",
    "- start to input() function with the help of get input from the user & store in the variable .\n",
    "- Initialize a variable called vowel_count to keep track of the number of vowels in the sentence.\n",
    "- Use a for loop to iterate thougth each character in sentence.\n",
    "- Convert the sentancechar to lowercase using the .lower() method and store it in the variable char_lower, with the help lower() function its help we capture both uppercase and lowercase vowels\n",
    "- then check if the lowercase character (sentence_lower) is one of the vowels by using the in operator and the string \"aeiou\".\n",
    "- If the character is a vowel, we increment the vowel_count variable by 1.\n",
    "- After iterating through all characters in the sentence, we print out the final count of vowels using the print() function."
   ]
  },
  {
   "cell_type": "code",
   "execution_count": 84,
   "id": "29d0f7c0-9e4c-4ec3-b2fd-81eb5591fbd5",
   "metadata": {},
   "outputs": [
    {
     "name": "stdin",
     "output_type": "stream",
     "text": [
      "Enter string: abhi\n"
     ]
    },
    {
     "name": "stdout",
     "output_type": "stream",
     "text": [
      "Number of vowels are: 2\n"
     ]
    }
   ],
   "source": [
    "#Q.5.Create a program that takes a sentence from the user and counts the number of vowels (a, e, i, o, u) in the string.\n",
    "# Different Method \n",
    "\n",
    "Sentence = input(\"Enter string:\")\n",
    "vowels = 0\n",
    "for i in Sentence:\n",
    "      if(i=='a' or i=='e' or i=='i' or i=='o' or i=='u'):\n",
    "            vowels=vowels+1\n",
    "print(\"Number of vowels are:\", vowels)"
   ]
  },
  {
   "cell_type": "code",
   "execution_count": 86,
   "id": "d8065452-957e-4af9-98e0-2194e3860ef0",
   "metadata": {},
   "outputs": [
    {
     "name": "stdin",
     "output_type": "stream",
     "text": [
      "Enter the sentence abhi\n"
     ]
    },
    {
     "name": "stdout",
     "output_type": "stream",
     "text": [
      "Number of vowels in the sentence is : 2\n"
     ]
    }
   ],
   "source": [
    "#Q.5.Create a program that takes a sentence from the user and counts the number of vowels (a, e, i, o, u) in the string.\n",
    "# Different Method \n",
    "\n",
    "Sentence = str(input(\"Enter the sentence\"))\n",
    "vowels = 0\n",
    "for i in Sentence:\n",
    "    if i in (\"a,e,i,o,u\"):\n",
    "        vowels = vowels + 1\n",
    "print(\"Number of vowels in the sentence is :\", vowels)\n",
    "        "
   ]
  },
  {
   "cell_type": "code",
   "execution_count": 90,
   "id": "d06c9c6f-b2c4-4418-a80c-83684af7f446",
   "metadata": {},
   "outputs": [
    {
     "name": "stdout",
     "output_type": "stream",
     "text": [
      "Reversed_String is : kehsihbA si eman yM\n"
     ]
    }
   ],
   "source": [
    "# Q.6. Given a string, reverse the order of characters using string slicing and print the reversed string.\n",
    "\n",
    "# Step 1: store the value in String & the format of string function\n",
    "String = str(\"My name is Abhishek\")\n",
    "\n",
    "# Step2 : Use string slicing to reverse the string using & Syntax : [start:end:step]\n",
    "# then start from the end of the string, move backward with step -1, and stop at the beginning\n",
    "Reverse_Order_Of_String = String[::-1]\n",
    "\n",
    "#Step3: Print the reversed string\n",
    "print(\"Reversed_String is :\", Reverse_Order_Of_String)\n"
   ]
  },
  {
   "cell_type": "code",
   "execution_count": null,
   "id": "234adbc2-9e71-464b-9ad5-4d1612eb5ef7",
   "metadata": {},
   "outputs": [],
   "source": [
    "Explaination : \n",
    "- Use the input() function to get a string input from the user and store it in the variable string.\n",
    "- To reverse the string using string slicing, Use the slicing syntax [start:end:step]. \n",
    "- In this case, start is not specified, so it defaults to the beginning of the string. end is not specified either, so it defaults to the end of the string. step is -1, which means we are moving backward through the string. So, by using input_string[::-1], we are effectively reversing the string.\n",
    "- print the reversed string using the print() function. The text \"Reversed string:\" is printed followed by the value of the reversed_string variable, which contains the reversed input string.\n"
   ]
  },
  {
   "cell_type": "code",
   "execution_count": 6,
   "id": "ba606a58-a511-45c1-ae6b-6ae5df7af037",
   "metadata": {},
   "outputs": [
    {
     "name": "stdin",
     "output_type": "stream",
     "text": [
      "Enter a string:  bob\n"
     ]
    },
    {
     "name": "stdout",
     "output_type": "stream",
     "text": [
      "The entered string is a palindrome.\n"
     ]
    }
   ],
   "source": [
    "#Q.7. Write a program that takes a string as input and checks if it is a palindrome (reads the same forwards and backwards).\n",
    "\n",
    "# Step1 : take input from the user in the format of string\n",
    "\n",
    "input_string = input(\"Enter a string: \")\n",
    "\n",
    "# Step2: Slicing method \n",
    "# & Compare the string with its reverse to check for palindrome\n",
    "\n",
    "if input_string == input_string[::-1]:\n",
    "    print(\"The entered string is a palindrome.\")\n",
    "else:\n",
    "    print(\"The entered string is not a palindrome.\")\n",
    "\n"
   ]
  },
  {
   "cell_type": "code",
   "execution_count": null,
   "id": "9e7c8f86-ec93-4bf2-ab2d-7bcc93cf9dfc",
   "metadata": {},
   "outputs": [],
   "source": [
    "Explaination : \n",
    "- Start by taking user input using the input() function and store it in the variable input_string.\n",
    "- Create the reversed_string with a step of -1, which effectively reverses the string.\n",
    "- Compare the input_string with its reversed_string using an if statement. \n",
    "- If they are equal then print that the input string is a palindrome; otherwise, print that it's not a palindrome."
   ]
  },
  {
   "cell_type": "code",
   "execution_count": 5,
   "id": "ea1fc034-aa99-47e5-b027-e6129701d0a3",
   "metadata": {},
   "outputs": [
    {
     "name": "stdin",
     "output_type": "stream",
     "text": [
      "Enter the Input :  Abhi     Sinha\n"
     ]
    },
    {
     "name": "stdout",
     "output_type": "stream",
     "text": [
      "AbhiSinha\n"
     ]
    }
   ],
   "source": [
    "#Q.8.Create a program that takes a string as input and removes all the spaces from it. Print the modified string without spaces.\n",
    "\n",
    "# Create the function of removeSpaces\n",
    "def removeSpaces(string):\n",
    "    \n",
    "    # Remove the space\n",
    "    \n",
    "    string = string.replace(' ', '')\n",
    "    return(string)  \n",
    "\n",
    "# take input from the user \n",
    "\n",
    "string = input(\"Enter the Input : \")\n",
    "\n",
    "# Display the removeSpace(string)\n",
    "print(removeSpaces(string))"
   ]
  },
  {
   "cell_type": "code",
   "execution_count": null,
   "id": "b7bd17dc-0bac-42fc-bfb5-724f57bdca4b",
   "metadata": {},
   "outputs": [],
   "source": [
    "Explaination : \n",
    "- first create a function & with the help of function to defining the function named removeSpace \n",
    "- After that use the replace(' ', '') fuction, its help to remove the space & return in the the string.\n",
    "- take input from the user.\n",
    "- diplay the output or call the defining function removeSpaces(string)"
   ]
  },
  {
   "cell_type": "code",
   "execution_count": null,
   "id": "47dcad3b-4a66-43fe-86e4-3cd6f2da5985",
   "metadata": {},
   "outputs": [],
   "source": []
  }
 ],
 "metadata": {
  "kernelspec": {
   "display_name": "Python 3 (ipykernel)",
   "language": "python",
   "name": "python3"
  },
  "language_info": {
   "codemirror_mode": {
    "name": "ipython",
    "version": 3
   },
   "file_extension": ".py",
   "mimetype": "text/x-python",
   "name": "python",
   "nbconvert_exporter": "python",
   "pygments_lexer": "ipython3",
   "version": "3.10.8"
  }
 },
 "nbformat": 4,
 "nbformat_minor": 5
}
